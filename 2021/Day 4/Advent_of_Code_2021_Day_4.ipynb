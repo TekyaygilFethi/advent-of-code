{
  "nbformat": 4,
  "nbformat_minor": 0,
  "metadata": {
    "colab": {
      "name": "Advent of Code 2021 Day 4.ipynb",
      "provenance": [],
      "collapsed_sections": []
    },
    "kernelspec": {
      "name": "python3",
      "display_name": "Python 3"
    },
    "language_info": {
      "name": "python"
    }
  },
  "cells": [
    {
      "cell_type": "markdown",
      "metadata": {
        "id": "sRO2klwA5NUU"
      },
      "source": [
        "#Generic Functions"
      ]
    },
    {
      "cell_type": "code",
      "metadata": {
        "id": "NtPfQvGfj2xC"
      },
      "source": [
        "def PrepareBoards(idx, length):\n",
        "  global boards\n",
        "  global vertical_lines\n",
        "  while idx <= len(data):\n",
        "    boards.append([{inner_d: False for inner_d in d.split()} for d in data[idx: idx + length]])\n",
        "    vertical_lines.append([{inner_d: False for inner_d in d}\n",
        "                           for d in\n",
        "                           [list(a) for a in\n",
        "                            list(zip(*[a.split() for a in data[idx: idx + length]]))]])\n",
        "    \n",
        "    idx += (length + 1)"
      ],
      "execution_count": 1,
      "outputs": []
    },
    {
      "cell_type": "code",
      "metadata": {
        "id": "_nlz2zljd4C0"
      },
      "source": [
        "def CheckBoard(board, length):\n",
        "  return length == sum(board.values())"
      ],
      "execution_count": 2,
      "outputs": []
    },
    {
      "cell_type": "markdown",
      "metadata": {
        "id": "T7c1QledY1jW"
      },
      "source": [
        "# Part 1"
      ]
    },
    {
      "cell_type": "code",
      "metadata": {
        "id": "uyJUfvdsi29C"
      },
      "source": [
        "def CheckInputExistencePart1(boards, input):\n",
        "  global won_board\n",
        "  global last_input\n",
        "  global length\n",
        "  \n",
        "  for inner_board in boards:\n",
        "      for inner_board_dict in inner_board:\n",
        "        if input in inner_board_dict:\n",
        "          inner_board_dict[input] = True\n",
        "          \n",
        "        if CheckBoard(inner_board_dict, length):\n",
        "          won_board = inner_board\n",
        "          last_input = int(input)"
      ],
      "execution_count": 3,
      "outputs": []
    },
    {
      "cell_type": "code",
      "metadata": {
        "colab": {
          "base_uri": "https://localhost:8080/"
        },
        "id": "ZEdJcNeCjEVY",
        "outputId": "a7e1fb7b-0e58-45ca-a682-601d31d0b124"
      },
      "source": [
        "with open('input.txt') as f:\n",
        "    data = [d.strip('\\n') for d in f.readlines()]\n",
        "    inputs = data[0].split(',')\n",
        "\n",
        "boards = []\n",
        "vertical_lines = []\n",
        "\n",
        "last_input = None\n",
        "won_board = None\n",
        "\n",
        "result = 0\n",
        "idx = 2\n",
        "length = 5\n",
        "\n",
        "PrepareBoards(idx, length)\n",
        "\n",
        "for input in inputs:\n",
        "    if won_board is not None:\n",
        "        break\n",
        "\n",
        "    CheckInputExistencePart1(boards, input)\n",
        "    CheckInputExistencePart1(vertical_lines, input)\n",
        " \n",
        "for won_board_row in [list(filter(lambda x: a[x] == False, a)) for a in won_board]:\n",
        "    result += sum(map(lambda x: int(x), won_board_row))\n",
        "\n",
        "print(result * last_input)"
      ],
      "execution_count": 4,
      "outputs": [
        {
          "output_type": "stream",
          "name": "stdout",
          "text": [
            "63424\n"
          ]
        }
      ]
    },
    {
      "cell_type": "markdown",
      "metadata": {
        "id": "4uQ8PEQEbICt"
      },
      "source": [
        "# Part 2"
      ]
    },
    {
      "cell_type": "code",
      "metadata": {
        "id": "AeliBF5R4Tz5"
      },
      "source": [
        "def CheckInputExistencePart2(boards, input):\n",
        "  global won_board\n",
        "  global last_input\n",
        "  global length\n",
        "  global win_history\n",
        "\n",
        "  for inner_board in [b for b in boards if boards.index(b) not in win_history]:\n",
        "      for inner_board_dict in inner_board:\n",
        "        if input in inner_board_dict:\n",
        "          inner_board_dict[input] = True\n",
        "          \n",
        "        if CheckBoard(inner_board_dict, length):\n",
        "            won_board = inner_board\n",
        "            last_input = int(input)\n",
        "            win_history.append(boards.index(inner_board))"
      ],
      "execution_count": 5,
      "outputs": []
    },
    {
      "cell_type": "code",
      "metadata": {
        "colab": {
          "base_uri": "https://localhost:8080/"
        },
        "id": "ZAMhQv2q0ym7",
        "outputId": "06b9469d-4dcd-40de-fc3a-ee0ef6e7d556"
      },
      "source": [
        "with open('input.txt') as f:\n",
        "    data = [d.strip('\\n') for d in f.readlines()]\n",
        "    inputs = data[0].split(',')\n",
        "\n",
        "boards = []\n",
        "vertical_lines = []\n",
        "\n",
        "last_input = None\n",
        "won_board = None\n",
        "\n",
        "result = 0\n",
        "idx = 2\n",
        "length = 5\n",
        "\n",
        "PrepareBoards(idx, length)\n",
        "\n",
        "win_history = []\n",
        "\n",
        "for input in inputs:\n",
        "  CheckInputExistencePart2(boards, input)\n",
        "  CheckInputExistencePart2(vertical_lines, input)\n",
        "\n",
        "for won_board_row in [list(filter(lambda x: a[x] == False, a)) for a in won_board]:\n",
        "    result += sum(map(lambda x: int(x), won_board_row))\n",
        "\n",
        "print(result * last_input)"
      ],
      "execution_count": 6,
      "outputs": [
        {
          "output_type": "stream",
          "name": "stdout",
          "text": [
            "23541\n"
          ]
        }
      ]
    }
  ]
}