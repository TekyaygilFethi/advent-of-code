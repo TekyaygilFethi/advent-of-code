{
  "nbformat": 4,
  "nbformat_minor": 0,
  "metadata": {
    "colab": {
      "name": "Advent of Code 2021 Day 3.ipynb",
      "provenance": [],
      "collapsed_sections": []
    },
    "kernelspec": {
      "name": "python3",
      "display_name": "Python 3"
    },
    "language_info": {
      "name": "python"
    }
  },
  "cells": [
    {
      "cell_type": "markdown",
      "metadata": {
        "id": "pJdWSLiEmFzN"
      },
      "source": [
        "# Part 1"
      ]
    },
    {
      "cell_type": "code",
      "metadata": {
        "id": "TkmtFfdHLq4V",
        "colab": {
          "base_uri": "https://localhost:8080/"
        },
        "outputId": "2b40c793-5eeb-4485-e6de-e1d9e4e8e56a"
      },
      "source": [
        "bits = []\n",
        "gamma_binary = \"\"\n",
        "epsilon_binary = \"\"\n",
        "\n",
        "with open('input.txt') as f:\n",
        "  bits = [bit.strip('\\n') for bit in f.readlines()]\n",
        "\n",
        "bit_groups = list(zip(*bits))\n",
        "    \n",
        "for bit_group in bit_groups:\n",
        "  zero_count = bit_group.count(\"0\")\n",
        "  one_count = len(bit_group) - zero_count\n",
        "  if zero_count > one_count:\n",
        "    epsilon_binary += \"0\"\n",
        "    gamma_binary += \"1\"\n",
        "  else:\n",
        "    epsilon_binary += \"1\"\n",
        "    gamma_binary += \"0\"\n",
        "\n",
        "gamma_rate = int(gamma_binary, 2)\n",
        "epsilon_rate = int(epsilon_binary, 2)\n",
        "\n",
        "\n",
        "print(gamma_rate * epsilon_rate)"
      ],
      "execution_count": 1,
      "outputs": [
        {
          "output_type": "stream",
          "name": "stdout",
          "text": [
            "4191876\n"
          ]
        }
      ]
    },
    {
      "cell_type": "markdown",
      "metadata": {
        "id": "pLAtp6HbnEJM"
      },
      "source": [
        "# Part 2"
      ]
    },
    {
      "cell_type": "code",
      "metadata": {
        "id": "DrMQya_AXfLb"
      },
      "source": [
        "def calculate_generator_rating(idx, generator_list, continue_flag, generator_type = \"ox\"):\n",
        "  if continue_flag:\n",
        "    bit_group = list(zip(*generator_list))[idx]\n",
        "    bit = \"\"\n",
        "    zero_count = bit_group.count(\"0\")\n",
        "    one_count = len(bit_group) - zero_count\n",
        "\n",
        "    if zero_count > one_count:\n",
        "      if generator_type == \"ox\":\n",
        "        bit = \"0\"\n",
        "      else:\n",
        "        bit = \"1\"\n",
        "    else:\n",
        "      if generator_type == \"ox\":\n",
        "        bit = \"1\"\n",
        "      else:\n",
        "        bit = \"0\"\n",
        "      \n",
        "    generator_list = list(filter(lambda x: x[idx] == bit, generator_list))\n",
        "\n",
        "    if len(generator_list) == 1:\n",
        "      continue_flag = False\n",
        "\n",
        "  return (continue_flag, generator_list)"
      ],
      "execution_count": 2,
      "outputs": []
    },
    {
      "cell_type": "code",
      "metadata": {
        "colab": {
          "base_uri": "https://localhost:8080/"
        },
        "id": "P7JWRuqLep7T",
        "outputId": "77acdd92-f7bd-4a62-faff-a2c1d2e7680f"
      },
      "source": [
        "with open('input.txt') as f:\n",
        "  bits = [bit.strip('\\n') for bit in f.readlines()]\n",
        "\n",
        "oxygen_generator_list = bits.copy()\n",
        "co2_generator_list = bits.copy()\n",
        "oxygen_continue_flag = True\n",
        "co2_continue_flag = True\n",
        "\n",
        "idx = 0\n",
        "\n",
        "while idx < len(bits[0]):\n",
        "  oxygen_continue_flag, oxygen_generator_list = calculate_generator_rating(idx, oxygen_generator_list, oxygen_continue_flag)\n",
        "  co2_continue_flag, co2_generator_list = calculate_generator_rating(idx, co2_generator_list, co2_continue_flag, \"co2\")\n",
        "\n",
        "  if oxygen_continue_flag == False and co2_continue_flag == False:\n",
        "    break\n",
        "      \n",
        "  idx += 1\n",
        "\n",
        "co2_rate = int(co2_generator_list[0], 2)\n",
        "oxygen_rate = int(oxygen_generator_list[0], 2)\n",
        "\n",
        "print(co2_rate * oxygen_rate)"
      ],
      "execution_count": 3,
      "outputs": [
        {
          "output_type": "stream",
          "name": "stdout",
          "text": [
            "3414905\n"
          ]
        }
      ]
    }
  ]
}