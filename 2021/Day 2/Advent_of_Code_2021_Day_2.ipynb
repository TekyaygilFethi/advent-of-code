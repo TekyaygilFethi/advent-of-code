{
  "nbformat": 4,
  "nbformat_minor": 0,
  "metadata": {
    "colab": {
      "name": "Advent of Code 2021 Day 2.ipynb",
      "provenance": [],
      "collapsed_sections": []
    },
    "kernelspec": {
      "name": "python3",
      "display_name": "Python 3"
    },
    "language_info": {
      "name": "python"
    }
  },
  "cells": [
    {
      "cell_type": "markdown",
      "metadata": {
        "id": "KESbQ9xOjSx9"
      },
      "source": [
        "# Part 1"
      ]
    },
    {
      "cell_type": "code",
      "metadata": {
        "colab": {
          "base_uri": "https://localhost:8080/"
        },
        "id": "9fEK4X8Ohtxt",
        "outputId": "bd4e7aa6-3912-42f6-a126-842eb109e4be"
      },
      "source": [
        "commands = []\n",
        "\n",
        "with open('input.txt') as f:\n",
        "  commands = [command.split() for command in f.readlines()]\n",
        "\n",
        "horizontal = 0\n",
        "depth = 0\n",
        "\n",
        "for cmd in commands:\n",
        "  ins = cmd[0]\n",
        "  step = int(cmd[1])\n",
        "  \n",
        "  if 'forward' == ins:\n",
        "    horizontal += step\n",
        "  elif 'down' == ins:\n",
        "    depth += step\n",
        "  elif 'up' == ins:\n",
        "    depth -= step\n",
        "\n",
        "print(horizontal * depth)"
      ],
      "execution_count": 2,
      "outputs": [
        {
          "output_type": "stream",
          "name": "stdout",
          "text": [
            "2322630\n"
          ]
        }
      ]
    },
    {
      "cell_type": "markdown",
      "metadata": {
        "id": "1P_cu_hnjZZn"
      },
      "source": [
        "# Part 2"
      ]
    },
    {
      "cell_type": "code",
      "metadata": {
        "colab": {
          "base_uri": "https://localhost:8080/"
        },
        "id": "HEVjhiO_jKWm",
        "outputId": "c4c01e38-4d81-4c59-88dc-167416d72e4b"
      },
      "source": [
        "commands = []\n",
        "\n",
        "with open('input.txt') as f:\n",
        "  commands = [command.split() for command in f.readlines()]\n",
        "\n",
        "horizontal = 0\n",
        "depth = 0\n",
        "aim = 0\n",
        "\n",
        "for cmd in commands:\n",
        "  ins = cmd[0]\n",
        "  step = int(cmd[1])\n",
        "  \n",
        "  if 'forward' == ins:\n",
        "    horizontal += step\n",
        "    depth += (aim * step)\n",
        "  elif 'down' == ins:\n",
        "    aim += step\n",
        "  elif 'up' == ins:\n",
        "    aim -= step\n",
        "\n",
        "print(horizontal * depth)"
      ],
      "execution_count": 3,
      "outputs": [
        {
          "output_type": "stream",
          "name": "stdout",
          "text": [
            "2105273490\n"
          ]
        }
      ]
    }
  ]
}