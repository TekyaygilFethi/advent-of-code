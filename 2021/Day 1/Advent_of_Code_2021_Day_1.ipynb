{
  "nbformat": 4,
  "nbformat_minor": 0,
  "metadata": {
    "colab": {
      "name": "Advent of Code 2021 Day 1.ipynb",
      "provenance": [],
      "collapsed_sections": []
    },
    "kernelspec": {
      "name": "python3",
      "display_name": "Python 3"
    },
    "language_info": {
      "name": "python"
    }
  },
  "cells": [
    {
      "cell_type": "markdown",
      "metadata": {
        "id": "9DKabWTxbxeI"
      },
      "source": [
        "# Part 1"
      ]
    },
    {
      "cell_type": "code",
      "metadata": {
        "colab": {
          "base_uri": "https://localhost:8080/"
        },
        "id": "ff82k6kcbvEP",
        "outputId": "b78cd691-67d9-4212-9a3b-96b4cacfc78a"
      },
      "source": [
        "inc = 0\n",
        "depths = []\n",
        "\n",
        "with open('input.txt') as f:\n",
        "  depths = [int(depth) for depth in f.readlines()]\n",
        "\n",
        "idx = 1\n",
        "\n",
        "while idx < len(depths):\n",
        "  if depths[idx] > depths[idx-1]:\n",
        "    inc += 1\n",
        "  \n",
        "  idx += 1\n",
        "\n",
        "print(inc)"
      ],
      "execution_count": 20,
      "outputs": [
        {
          "output_type": "stream",
          "name": "stdout",
          "text": [
            "1292\n"
          ]
        }
      ]
    },
    {
      "cell_type": "markdown",
      "metadata": {
        "id": "BsdMMOvWiZD8"
      },
      "source": [
        "# Part 2"
      ]
    },
    {
      "cell_type": "code",
      "metadata": {
        "colab": {
          "base_uri": "https://localhost:8080/"
        },
        "id": "D5uTQRpqia1j",
        "outputId": "e2c0192b-e746-4127-c6ac-a1c3499479c2"
      },
      "source": [
        "inc = 0\n",
        "nums = []\n",
        "\n",
        "with open('input.txt') as f:\n",
        "  nums = [int(num) for num in f.readlines()]\n",
        "\n",
        "idx = 0\n",
        "window_size = 3\n",
        "\n",
        "while idx <= len(nums):\n",
        "  first_window_sum = sum(nums[idx: idx+window_size])\n",
        "  second_window_sum = sum(nums[idx+1: (idx+1) + window_size])\n",
        "  \n",
        "  if  second_window_sum > first_window_sum:\n",
        "    inc += 1\n",
        "  \n",
        "  idx += 1\n",
        "    \n",
        "print(inc)"
      ],
      "execution_count": 47,
      "outputs": [
        {
          "output_type": "stream",
          "name": "stdout",
          "text": [
            "1262\n"
          ]
        }
      ]
    }
  ]
}